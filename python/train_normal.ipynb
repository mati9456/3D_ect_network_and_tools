{
 "cells": [
  {
   "cell_type": "code",
   "execution_count": null,
   "metadata": {},
   "outputs": [],
   "source": [
    "import os\n",
    "import time\n",
    "import csv\n",
    "import pandas as pd\n",
    "import numpy as np\n",
    "import matplotlib.pyplot as plt\n",
    "from matplotlib.ticker import (MultipleLocator, AutoMinorLocator)\n",
    "import random\n",
    "import string\n",
    "\n",
    "import torch\n",
    "import torch.nn as nn           \n",
    "import torch.nn.functional as F \n",
    "import torch.optim as optim\n",
    "import torchvision.transforms as transforms\n",
    "import training_helpers\n",
    "\n",
    "from plot_volume import plot_volume\n",
    "from dataset_stuff_64 import *\n",
    "from model_64_conv4_no_bias import *\n",
    "import visualtorch\n",
    "from grokfast import gradfilter_ma, gradfilter_ema\n",
    "\n",
    "%matplotlib widget\n",
    "%load_ext autoreload\n",
    "%autoreload 2"
   ]
  },
  {
   "cell_type": "code",
   "execution_count": 2,
   "metadata": {},
   "outputs": [
    {
     "name": "stdout",
     "output_type": "stream",
     "text": [
      "cuda\n"
     ]
    }
   ],
   "source": [
    "torch.set_default_dtype(torch.float32)\n",
    "device = torch.device(\"cuda\" if torch.cuda.is_available() else \"cpu\")\n",
    "#device = torch.device(\"cpu\")\n",
    "\n",
    "print(device)"
   ]
  },
  {
   "cell_type": "code",
   "execution_count": 3,
   "metadata": {},
   "outputs": [],
   "source": [
    "mask = training_helpers.load_mask(1, device=device)"
   ]
  },
  {
   "cell_type": "code",
   "execution_count": 4,
   "metadata": {},
   "outputs": [],
   "source": [
    "batch_size = 32\n",
    "val_dataloader, val_dataset = create_ect_dataloaders('../dataset/ect_data_eval.csv', batch_size=batch_size, SNR=None, augment=False) # SNR=None for no noise, number for SNR in dB"
   ]
  },
  {
   "cell_type": "code",
   "execution_count": null,
   "metadata": {},
   "outputs": [],
   "source": [
    "folder = \"./test_scheduler/\"\n",
    "name = \"no_scheduler\"\n",
    "\n",
    "model = ECT_conv_net_3d(8).to(device)\n",
    "training_helpers.initialize_weights(model, 'kaiming')\n",
    "\n",
    "criterion_MSE = nn.MSELoss()\n",
    "optimizer_g1 = optim.Adam(model.parameters(), lr=0.001)\n",
    "\n",
    "train_dataloader, ect_dataset = create_ect_dataloaders('../dataset/ect_data_train.csv', batch_size=32, SNR=None, augment=True) # SNR=None for no noise, number for SNR in dB\n",
    "\n",
    "start_time = time.time()\n",
    "model, training_loss_arr, valid_loss_arr, lr_arr = training_helpers.train_model(model, device, mask, 50, train_dataloader, val_dataloader, criterion_MSE, optimizer_g1, scheduler=None)\n",
    "training_time = time.time() - start_time\n",
    "\n",
    "np.savetxt(folder + \"training_time\" + name + \".txt\", np.array([training_time]), fmt=\"%.6f\", header=\"Training time (seconds)\")\n",
    "\n",
    "np.save(folder + 'training_' + name + ''.join(random.choices(string.ascii_letters + string.digits, k=5)) + '.npy', training_loss_arr)\n",
    "np.save(folder + 'val_' + name + ''.join(random.choices(string.ascii_letters + string.digits, k=5)) + '.npy', valid_loss_arr)\n",
    "np.save(folder + 'lr_' + name + ''.join(random.choices(string.ascii_letters + string.digits, k=5)) + '.npy', lr_arr)\n",
    "\n",
    "torch.save(model, folder + '64conv4_' + name + ''.join(random.choices(string.ascii_letters + string.digits, k=5)) + '.pt')\n"
   ]
  }
 ],
 "metadata": {
  "kernelspec": {
   "display_name": ".venv",
   "language": "python",
   "name": "python3"
  },
  "language_info": {
   "codemirror_mode": {
    "name": "ipython",
    "version": 3
   },
   "file_extension": ".py",
   "mimetype": "text/x-python",
   "name": "python",
   "nbconvert_exporter": "python",
   "pygments_lexer": "ipython3",
   "version": "3.12.3"
  }
 },
 "nbformat": 4,
 "nbformat_minor": 2
}
